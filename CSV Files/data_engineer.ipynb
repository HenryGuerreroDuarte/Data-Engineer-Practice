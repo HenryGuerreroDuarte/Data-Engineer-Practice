{
 "cells": [
  {
   "cell_type": "markdown",
   "metadata": {},
   "source": [
    "### Part 1 ###"
   ]
  },
  {
   "cell_type": "markdown",
   "metadata": {},
   "source": [
    "Import libraries"
   ]
  },
  {
   "cell_type": "code",
   "execution_count": 41,
   "metadata": {},
   "outputs": [],
   "source": [
    "from cgi import print_arguments\n",
    "import pandas as pd"
   ]
  },
  {
   "cell_type": "markdown",
   "metadata": {},
   "source": [
    "Create dataframes for each file to extract columns"
   ]
  },
  {
   "cell_type": "code",
   "execution_count": 42,
   "metadata": {},
   "outputs": [],
   "source": [
    "df_1 = pd.read_csv('cons_email.csv' , usecols = ['email','create_dt','modified_dt'])\n",
    "df_2 = pd.read_csv('cons_email_chapter_subscription.csv' , usecols = ['isunsub'])\n",
    "df_3 = pd.read_csv('cons.csv' , usecols = ['source'])"
   ]
  },
  {
   "cell_type": "markdown",
   "metadata": {},
   "source": [
    "Merge all 3 dataframes into 1"
   ]
  },
  {
   "cell_type": "code",
   "execution_count": 43,
   "metadata": {},
   "outputs": [
    {
     "data": {
      "text/html": [
       "<div>\n",
       "<style scoped>\n",
       "    .dataframe tbody tr th:only-of-type {\n",
       "        vertical-align: middle;\n",
       "    }\n",
       "\n",
       "    .dataframe tbody tr th {\n",
       "        vertical-align: top;\n",
       "    }\n",
       "\n",
       "    .dataframe thead th {\n",
       "        text-align: right;\n",
       "    }\n",
       "</style>\n",
       "<table border=\"1\" class=\"dataframe\">\n",
       "  <thead>\n",
       "    <tr style=\"text-align: right;\">\n",
       "      <th></th>\n",
       "      <th>email</th>\n",
       "      <th>create_dt</th>\n",
       "      <th>modified_dt</th>\n",
       "      <th>isunsub</th>\n",
       "      <th>source</th>\n",
       "    </tr>\n",
       "  </thead>\n",
       "  <tbody>\n",
       "    <tr>\n",
       "      <th>0</th>\n",
       "      <td>xmartinez@vincent.com</td>\n",
       "      <td>Wed, 1994-01-26 23:49:16</td>\n",
       "      <td>Sat, 2014-04-19 19:10:39</td>\n",
       "      <td>1.0</td>\n",
       "      <td>google</td>\n",
       "    </tr>\n",
       "    <tr>\n",
       "      <th>1</th>\n",
       "      <td>hmiller@haynes.biz</td>\n",
       "      <td>Thu, 1999-12-09 06:18:27</td>\n",
       "      <td>Sat, 1984-07-14 05:55:27</td>\n",
       "      <td>1.0</td>\n",
       "      <td>facebook</td>\n",
       "    </tr>\n",
       "    <tr>\n",
       "      <th>2</th>\n",
       "      <td>aaron64@yahoo.com</td>\n",
       "      <td>Wed, 1992-11-18 16:46:27</td>\n",
       "      <td>Sun, 1995-12-24 13:13:01</td>\n",
       "      <td>1.0</td>\n",
       "      <td>NaN</td>\n",
       "    </tr>\n",
       "    <tr>\n",
       "      <th>3</th>\n",
       "      <td>wyattvincent@hotmail.com</td>\n",
       "      <td>Sat, 1983-11-26 16:49:14</td>\n",
       "      <td>Sun, 1975-01-19 14:32:56</td>\n",
       "      <td>1.0</td>\n",
       "      <td>google</td>\n",
       "    </tr>\n",
       "    <tr>\n",
       "      <th>4</th>\n",
       "      <td>tspencer@hotmail.com</td>\n",
       "      <td>Wed, 2000-11-15 13:28:34</td>\n",
       "      <td>Sun, 1994-03-13 16:38:37</td>\n",
       "      <td>1.0</td>\n",
       "      <td>NaN</td>\n",
       "    </tr>\n",
       "  </tbody>\n",
       "</table>\n",
       "</div>"
      ],
      "text/plain": [
       "                      email                 create_dt  \\\n",
       "0     xmartinez@vincent.com  Wed, 1994-01-26 23:49:16   \n",
       "1        hmiller@haynes.biz  Thu, 1999-12-09 06:18:27   \n",
       "2         aaron64@yahoo.com  Wed, 1992-11-18 16:46:27   \n",
       "3  wyattvincent@hotmail.com  Sat, 1983-11-26 16:49:14   \n",
       "4      tspencer@hotmail.com  Wed, 2000-11-15 13:28:34   \n",
       "\n",
       "                modified_dt  isunsub    source  \n",
       "0  Sat, 2014-04-19 19:10:39      1.0    google  \n",
       "1  Sat, 1984-07-14 05:55:27      1.0  facebook  \n",
       "2  Sun, 1995-12-24 13:13:01      1.0       NaN  \n",
       "3  Sun, 1975-01-19 14:32:56      1.0    google  \n",
       "4  Sun, 1994-03-13 16:38:37      1.0       NaN  "
      ]
     },
     "execution_count": 43,
     "metadata": {},
     "output_type": "execute_result"
    }
   ],
   "source": [
    "df_all = pd.concat([df_1, df_2, df_3], axis = 1 )\n",
    "df_all.head()"
   ]
  },
  {
   "cell_type": "markdown",
   "metadata": {},
   "source": [
    "Change names"
   ]
  },
  {
   "cell_type": "code",
   "execution_count": 44,
   "metadata": {},
   "outputs": [
    {
     "data": {
      "text/html": [
       "<div>\n",
       "<style scoped>\n",
       "    .dataframe tbody tr th:only-of-type {\n",
       "        vertical-align: middle;\n",
       "    }\n",
       "\n",
       "    .dataframe tbody tr th {\n",
       "        vertical-align: top;\n",
       "    }\n",
       "\n",
       "    .dataframe thead th {\n",
       "        text-align: right;\n",
       "    }\n",
       "</style>\n",
       "<table border=\"1\" class=\"dataframe\">\n",
       "  <thead>\n",
       "    <tr style=\"text-align: right;\">\n",
       "      <th></th>\n",
       "      <th>email</th>\n",
       "      <th>created_dt</th>\n",
       "      <th>updated_dt</th>\n",
       "      <th>is_unsub</th>\n",
       "      <th>code</th>\n",
       "    </tr>\n",
       "  </thead>\n",
       "  <tbody>\n",
       "    <tr>\n",
       "      <th>0</th>\n",
       "      <td>xmartinez@vincent.com</td>\n",
       "      <td>Wed, 1994-01-26 23:49:16</td>\n",
       "      <td>Sat, 2014-04-19 19:10:39</td>\n",
       "      <td>1.0</td>\n",
       "      <td>google</td>\n",
       "    </tr>\n",
       "    <tr>\n",
       "      <th>1</th>\n",
       "      <td>hmiller@haynes.biz</td>\n",
       "      <td>Thu, 1999-12-09 06:18:27</td>\n",
       "      <td>Sat, 1984-07-14 05:55:27</td>\n",
       "      <td>1.0</td>\n",
       "      <td>facebook</td>\n",
       "    </tr>\n",
       "    <tr>\n",
       "      <th>2</th>\n",
       "      <td>aaron64@yahoo.com</td>\n",
       "      <td>Wed, 1992-11-18 16:46:27</td>\n",
       "      <td>Sun, 1995-12-24 13:13:01</td>\n",
       "      <td>1.0</td>\n",
       "      <td>NaN</td>\n",
       "    </tr>\n",
       "    <tr>\n",
       "      <th>3</th>\n",
       "      <td>wyattvincent@hotmail.com</td>\n",
       "      <td>Sat, 1983-11-26 16:49:14</td>\n",
       "      <td>Sun, 1975-01-19 14:32:56</td>\n",
       "      <td>1.0</td>\n",
       "      <td>google</td>\n",
       "    </tr>\n",
       "    <tr>\n",
       "      <th>4</th>\n",
       "      <td>tspencer@hotmail.com</td>\n",
       "      <td>Wed, 2000-11-15 13:28:34</td>\n",
       "      <td>Sun, 1994-03-13 16:38:37</td>\n",
       "      <td>1.0</td>\n",
       "      <td>NaN</td>\n",
       "    </tr>\n",
       "  </tbody>\n",
       "</table>\n",
       "</div>"
      ],
      "text/plain": [
       "                      email                created_dt  \\\n",
       "0     xmartinez@vincent.com  Wed, 1994-01-26 23:49:16   \n",
       "1        hmiller@haynes.biz  Thu, 1999-12-09 06:18:27   \n",
       "2         aaron64@yahoo.com  Wed, 1992-11-18 16:46:27   \n",
       "3  wyattvincent@hotmail.com  Sat, 1983-11-26 16:49:14   \n",
       "4      tspencer@hotmail.com  Wed, 2000-11-15 13:28:34   \n",
       "\n",
       "                 updated_dt  is_unsub      code  \n",
       "0  Sat, 2014-04-19 19:10:39       1.0    google  \n",
       "1  Sat, 1984-07-14 05:55:27       1.0  facebook  \n",
       "2  Sun, 1995-12-24 13:13:01       1.0       NaN  \n",
       "3  Sun, 1975-01-19 14:32:56       1.0    google  \n",
       "4  Sun, 1994-03-13 16:38:37       1.0       NaN  "
      ]
     },
     "execution_count": 44,
     "metadata": {},
     "output_type": "execute_result"
    }
   ],
   "source": [
    "df_all.rename(columns = {'create_dt':'created_dt', 'source':'code', 'isunsub':'is_unsub', 'modified_dt':'updated_dt'}, inplace = True)\n",
    "df_all.head()"
   ]
  },
  {
   "cell_type": "markdown",
   "metadata": {},
   "source": [
    "Cnange Order"
   ]
  },
  {
   "cell_type": "code",
   "execution_count": 45,
   "metadata": {},
   "outputs": [
    {
     "data": {
      "text/html": [
       "<div>\n",
       "<style scoped>\n",
       "    .dataframe tbody tr th:only-of-type {\n",
       "        vertical-align: middle;\n",
       "    }\n",
       "\n",
       "    .dataframe tbody tr th {\n",
       "        vertical-align: top;\n",
       "    }\n",
       "\n",
       "    .dataframe thead th {\n",
       "        text-align: right;\n",
       "    }\n",
       "</style>\n",
       "<table border=\"1\" class=\"dataframe\">\n",
       "  <thead>\n",
       "    <tr style=\"text-align: right;\">\n",
       "      <th></th>\n",
       "      <th>email</th>\n",
       "      <th>code</th>\n",
       "      <th>is_unsub</th>\n",
       "      <th>created_dt</th>\n",
       "      <th>updated_dt</th>\n",
       "    </tr>\n",
       "  </thead>\n",
       "  <tbody>\n",
       "    <tr>\n",
       "      <th>0</th>\n",
       "      <td>xmartinez@vincent.com</td>\n",
       "      <td>google</td>\n",
       "      <td>1.0</td>\n",
       "      <td>Wed, 1994-01-26 23:49:16</td>\n",
       "      <td>Sat, 2014-04-19 19:10:39</td>\n",
       "    </tr>\n",
       "    <tr>\n",
       "      <th>1</th>\n",
       "      <td>hmiller@haynes.biz</td>\n",
       "      <td>facebook</td>\n",
       "      <td>1.0</td>\n",
       "      <td>Thu, 1999-12-09 06:18:27</td>\n",
       "      <td>Sat, 1984-07-14 05:55:27</td>\n",
       "    </tr>\n",
       "    <tr>\n",
       "      <th>2</th>\n",
       "      <td>aaron64@yahoo.com</td>\n",
       "      <td>NaN</td>\n",
       "      <td>1.0</td>\n",
       "      <td>Wed, 1992-11-18 16:46:27</td>\n",
       "      <td>Sun, 1995-12-24 13:13:01</td>\n",
       "    </tr>\n",
       "    <tr>\n",
       "      <th>3</th>\n",
       "      <td>wyattvincent@hotmail.com</td>\n",
       "      <td>google</td>\n",
       "      <td>1.0</td>\n",
       "      <td>Sat, 1983-11-26 16:49:14</td>\n",
       "      <td>Sun, 1975-01-19 14:32:56</td>\n",
       "    </tr>\n",
       "    <tr>\n",
       "      <th>4</th>\n",
       "      <td>tspencer@hotmail.com</td>\n",
       "      <td>NaN</td>\n",
       "      <td>1.0</td>\n",
       "      <td>Wed, 2000-11-15 13:28:34</td>\n",
       "      <td>Sun, 1994-03-13 16:38:37</td>\n",
       "    </tr>\n",
       "  </tbody>\n",
       "</table>\n",
       "</div>"
      ],
      "text/plain": [
       "                      email      code  is_unsub                created_dt  \\\n",
       "0     xmartinez@vincent.com    google       1.0  Wed, 1994-01-26 23:49:16   \n",
       "1        hmiller@haynes.biz  facebook       1.0  Thu, 1999-12-09 06:18:27   \n",
       "2         aaron64@yahoo.com       NaN       1.0  Wed, 1992-11-18 16:46:27   \n",
       "3  wyattvincent@hotmail.com    google       1.0  Sat, 1983-11-26 16:49:14   \n",
       "4      tspencer@hotmail.com       NaN       1.0  Wed, 2000-11-15 13:28:34   \n",
       "\n",
       "                 updated_dt  \n",
       "0  Sat, 2014-04-19 19:10:39  \n",
       "1  Sat, 1984-07-14 05:55:27  \n",
       "2  Sun, 1995-12-24 13:13:01  \n",
       "3  Sun, 1975-01-19 14:32:56  \n",
       "4  Sun, 1994-03-13 16:38:37  "
      ]
     },
     "execution_count": 45,
     "metadata": {},
     "output_type": "execute_result"
    }
   ],
   "source": [
    "df_all = df_all[['email', 'code', 'is_unsub', 'created_dt', 'updated_dt']]\n",
    "df_all.head()"
   ]
  },
  {
   "cell_type": "markdown",
   "metadata": {},
   "source": [
    "Fix Data Types"
   ]
  },
  {
   "cell_type": "code",
   "execution_count": 46,
   "metadata": {},
   "outputs": [
    {
     "name": "stdout",
     "output_type": "stream",
     "text": [
      "Output:\n",
      "email                   |S45\n",
      "code                     |S8\n",
      "is_unsub                bool\n",
      "created_dt    datetime64[ns]\n",
      "updated_dt    datetime64[ns]\n",
      "dtype: object\n"
     ]
    },
    {
     "data": {
      "text/html": [
       "<div>\n",
       "<style scoped>\n",
       "    .dataframe tbody tr th:only-of-type {\n",
       "        vertical-align: middle;\n",
       "    }\n",
       "\n",
       "    .dataframe tbody tr th {\n",
       "        vertical-align: top;\n",
       "    }\n",
       "\n",
       "    .dataframe thead th {\n",
       "        text-align: right;\n",
       "    }\n",
       "</style>\n",
       "<table border=\"1\" class=\"dataframe\">\n",
       "  <thead>\n",
       "    <tr style=\"text-align: right;\">\n",
       "      <th></th>\n",
       "      <th>email</th>\n",
       "      <th>code</th>\n",
       "      <th>is_unsub</th>\n",
       "      <th>created_dt</th>\n",
       "      <th>updated_dt</th>\n",
       "    </tr>\n",
       "  </thead>\n",
       "  <tbody>\n",
       "    <tr>\n",
       "      <th>0</th>\n",
       "      <td>b'xmartinez@vincent.com'</td>\n",
       "      <td>b'google'</td>\n",
       "      <td>True</td>\n",
       "      <td>1994-01-26 23:49:16</td>\n",
       "      <td>2014-04-19 19:10:39</td>\n",
       "    </tr>\n",
       "    <tr>\n",
       "      <th>1</th>\n",
       "      <td>b'hmiller@haynes.biz'</td>\n",
       "      <td>b'facebook'</td>\n",
       "      <td>True</td>\n",
       "      <td>1999-12-09 06:18:27</td>\n",
       "      <td>1984-07-14 05:55:27</td>\n",
       "    </tr>\n",
       "    <tr>\n",
       "      <th>2</th>\n",
       "      <td>b'aaron64@yahoo.com'</td>\n",
       "      <td>b'nan'</td>\n",
       "      <td>True</td>\n",
       "      <td>1992-11-18 16:46:27</td>\n",
       "      <td>1995-12-24 13:13:01</td>\n",
       "    </tr>\n",
       "    <tr>\n",
       "      <th>3</th>\n",
       "      <td>b'wyattvincent@hotmail.com'</td>\n",
       "      <td>b'google'</td>\n",
       "      <td>True</td>\n",
       "      <td>1983-11-26 16:49:14</td>\n",
       "      <td>1975-01-19 14:32:56</td>\n",
       "    </tr>\n",
       "    <tr>\n",
       "      <th>4</th>\n",
       "      <td>b'tspencer@hotmail.com'</td>\n",
       "      <td>b'nan'</td>\n",
       "      <td>True</td>\n",
       "      <td>2000-11-15 13:28:34</td>\n",
       "      <td>1994-03-13 16:38:37</td>\n",
       "    </tr>\n",
       "  </tbody>\n",
       "</table>\n",
       "</div>"
      ],
      "text/plain": [
       "                         email         code  is_unsub          created_dt  \\\n",
       "0     b'xmartinez@vincent.com'    b'google'      True 1994-01-26 23:49:16   \n",
       "1        b'hmiller@haynes.biz'  b'facebook'      True 1999-12-09 06:18:27   \n",
       "2         b'aaron64@yahoo.com'       b'nan'      True 1992-11-18 16:46:27   \n",
       "3  b'wyattvincent@hotmail.com'    b'google'      True 1983-11-26 16:49:14   \n",
       "4      b'tspencer@hotmail.com'       b'nan'      True 2000-11-15 13:28:34   \n",
       "\n",
       "           updated_dt  \n",
       "0 2014-04-19 19:10:39  \n",
       "1 1984-07-14 05:55:27  \n",
       "2 1995-12-24 13:13:01  \n",
       "3 1975-01-19 14:32:56  \n",
       "4 1994-03-13 16:38:37  "
      ]
     },
     "execution_count": 46,
     "metadata": {},
     "output_type": "execute_result"
    }
   ],
   "source": [
    "df_all['email'] =       df_all['email']                 .astype(\"|S\")                   # Object -> string\n",
    "df_all['code'] =        df_all['code']                  .astype(\"|S\")                   # Object -> string\n",
    "df_all['is_unsub'] =    df_all['is_unsub']              .astype(bool)                   # int64  -> boolean\n",
    "df_all['created_dt']=                           pd.to_datetime(df_all['created_dt'])    # Object -> datetime\n",
    "df_all['updated_dt']=                           pd.to_datetime(df_all['updated_dt'])    # Object -> datetime\n",
    "\n",
    "# apply the dtype attribute\n",
    "result = df_all.dtypes\n",
    "\n",
    "print(\"Output:\")\n",
    "print(result)\n",
    "df_all.head()"
   ]
  },
  {
   "cell_type": "markdown",
   "metadata": {},
   "source": [
    "Create 'people.csv' file"
   ]
  },
  {
   "cell_type": "code",
   "execution_count": 47,
   "metadata": {},
   "outputs": [],
   "source": [
    "df_all.to_csv('people.csv' , index = False)"
   ]
  },
  {
   "cell_type": "markdown",
   "metadata": {},
   "source": [
    "### Part 2 ###"
   ]
  },
  {
   "cell_type": "markdown",
   "metadata": {},
   "source": [
    "Read and obtain columns csv file from 'people'"
   ]
  },
  {
   "cell_type": "code",
   "execution_count": 48,
   "metadata": {},
   "outputs": [],
   "source": [
    "df_agg = pd.read_csv('people.csv', usecols = ['created_dt'])"
   ]
  },
  {
   "cell_type": "markdown",
   "metadata": {},
   "source": [
    "Rename column ( create_dt -> acquisition_date )"
   ]
  },
  {
   "cell_type": "code",
   "execution_count": 49,
   "metadata": {},
   "outputs": [
    {
     "data": {
      "text/html": [
       "<div>\n",
       "<style scoped>\n",
       "    .dataframe tbody tr th:only-of-type {\n",
       "        vertical-align: middle;\n",
       "    }\n",
       "\n",
       "    .dataframe tbody tr th {\n",
       "        vertical-align: top;\n",
       "    }\n",
       "\n",
       "    .dataframe thead th {\n",
       "        text-align: right;\n",
       "    }\n",
       "</style>\n",
       "<table border=\"1\" class=\"dataframe\">\n",
       "  <thead>\n",
       "    <tr style=\"text-align: right;\">\n",
       "      <th></th>\n",
       "      <th>acquisition_date</th>\n",
       "    </tr>\n",
       "  </thead>\n",
       "  <tbody>\n",
       "    <tr>\n",
       "      <th>0</th>\n",
       "      <td>1994-01-26 23:49:16</td>\n",
       "    </tr>\n",
       "    <tr>\n",
       "      <th>1</th>\n",
       "      <td>1999-12-09 06:18:27</td>\n",
       "    </tr>\n",
       "    <tr>\n",
       "      <th>2</th>\n",
       "      <td>1992-11-18 16:46:27</td>\n",
       "    </tr>\n",
       "    <tr>\n",
       "      <th>3</th>\n",
       "      <td>1983-11-26 16:49:14</td>\n",
       "    </tr>\n",
       "    <tr>\n",
       "      <th>4</th>\n",
       "      <td>2000-11-15 13:28:34</td>\n",
       "    </tr>\n",
       "  </tbody>\n",
       "</table>\n",
       "</div>"
      ],
      "text/plain": [
       "      acquisition_date\n",
       "0  1994-01-26 23:49:16\n",
       "1  1999-12-09 06:18:27\n",
       "2  1992-11-18 16:46:27\n",
       "3  1983-11-26 16:49:14\n",
       "4  2000-11-15 13:28:34"
      ]
     },
     "execution_count": 49,
     "metadata": {},
     "output_type": "execute_result"
    }
   ],
   "source": [
    "df_agg.rename(columns=({'created_dt' : 'acquisition_date'}),inplace=True,)\n",
    "df_agg.head()"
   ]
  },
  {
   "cell_type": "markdown",
   "metadata": {},
   "source": [
    "Date/time -> Date"
   ]
  },
  {
   "cell_type": "code",
   "execution_count": 50,
   "metadata": {},
   "outputs": [
    {
     "data": {
      "text/plain": [
       "['1994-01-26',\n",
       " '1999-12-09',\n",
       " '1992-11-18',\n",
       " '1983-11-26',\n",
       " '2000-11-15',\n",
       " '1984-03-08',\n",
       " '1975-11-25',\n",
       " '1973-11-11',\n",
       " '1976-06-28',\n",
       " '1988-08-07',\n",
       " '1991-07-16',\n",
       " '1996-10-30',\n",
       " '2017-01-29',\n",
       " '1991-12-17',\n",
       " '1977-09-05']"
      ]
     },
     "execution_count": 50,
     "metadata": {},
     "output_type": "execute_result"
    }
   ],
   "source": [
    "str_dates = []\n",
    "for _,val in df_agg[\"acquisition_date\"].iteritems():\n",
    "    str_dates.append(str(val)[0:10])\n",
    "\n",
    "str_dates[0:15]    "
   ]
  },
  {
   "cell_type": "markdown",
   "metadata": {},
   "source": [
    "Putting Date into the dataframe"
   ]
  },
  {
   "cell_type": "code",
   "execution_count": 51,
   "metadata": {},
   "outputs": [
    {
     "data": {
      "text/html": [
       "<div>\n",
       "<style scoped>\n",
       "    .dataframe tbody tr th:only-of-type {\n",
       "        vertical-align: middle;\n",
       "    }\n",
       "\n",
       "    .dataframe tbody tr th {\n",
       "        vertical-align: top;\n",
       "    }\n",
       "\n",
       "    .dataframe thead th {\n",
       "        text-align: right;\n",
       "    }\n",
       "</style>\n",
       "<table border=\"1\" class=\"dataframe\">\n",
       "  <thead>\n",
       "    <tr style=\"text-align: right;\">\n",
       "      <th></th>\n",
       "      <th>acquisition_date</th>\n",
       "    </tr>\n",
       "  </thead>\n",
       "  <tbody>\n",
       "    <tr>\n",
       "      <th>0</th>\n",
       "      <td>1994-01-26</td>\n",
       "    </tr>\n",
       "    <tr>\n",
       "      <th>1</th>\n",
       "      <td>1999-12-09</td>\n",
       "    </tr>\n",
       "    <tr>\n",
       "      <th>2</th>\n",
       "      <td>1992-11-18</td>\n",
       "    </tr>\n",
       "    <tr>\n",
       "      <th>3</th>\n",
       "      <td>1983-11-26</td>\n",
       "    </tr>\n",
       "    <tr>\n",
       "      <th>4</th>\n",
       "      <td>2000-11-15</td>\n",
       "    </tr>\n",
       "  </tbody>\n",
       "</table>\n",
       "</div>"
      ],
      "text/plain": [
       "  acquisition_date\n",
       "0       1994-01-26\n",
       "1       1999-12-09\n",
       "2       1992-11-18\n",
       "3       1983-11-26\n",
       "4       2000-11-15"
      ]
     },
     "execution_count": 51,
     "metadata": {},
     "output_type": "execute_result"
    }
   ],
   "source": [
    "df_agg[\"acquisition_date\"] = str_dates \n",
    "df_agg.head()"
   ]
  },
  {
   "cell_type": "markdown",
   "metadata": {},
   "source": [
    "Create count value for 'acquisitions' from \"acquisition_date\""
   ]
  },
  {
   "cell_type": "code",
   "execution_count": 52,
   "metadata": {},
   "outputs": [
    {
     "data": {
      "text/html": [
       "<div>\n",
       "<style scoped>\n",
       "    .dataframe tbody tr th:only-of-type {\n",
       "        vertical-align: middle;\n",
       "    }\n",
       "\n",
       "    .dataframe tbody tr th {\n",
       "        vertical-align: top;\n",
       "    }\n",
       "\n",
       "    .dataframe thead th {\n",
       "        text-align: right;\n",
       "    }\n",
       "</style>\n",
       "<table border=\"1\" class=\"dataframe\">\n",
       "  <thead>\n",
       "    <tr style=\"text-align: right;\">\n",
       "      <th></th>\n",
       "      <th>acquisition_date</th>\n",
       "      <th>acquisitions</th>\n",
       "    </tr>\n",
       "  </thead>\n",
       "  <tbody>\n",
       "    <tr>\n",
       "      <th>0</th>\n",
       "      <td>1997-11-15</td>\n",
       "      <td>112</td>\n",
       "    </tr>\n",
       "    <tr>\n",
       "      <th>1</th>\n",
       "      <td>1979-01-18</td>\n",
       "      <td>111</td>\n",
       "    </tr>\n",
       "    <tr>\n",
       "      <th>2</th>\n",
       "      <td>1980-09-15</td>\n",
       "      <td>110</td>\n",
       "    </tr>\n",
       "    <tr>\n",
       "      <th>3</th>\n",
       "      <td>1974-08-23</td>\n",
       "      <td>108</td>\n",
       "    </tr>\n",
       "    <tr>\n",
       "      <th>4</th>\n",
       "      <td>1982-03-01</td>\n",
       "      <td>108</td>\n",
       "    </tr>\n",
       "    <tr>\n",
       "      <th>5</th>\n",
       "      <td>1993-05-15</td>\n",
       "      <td>107</td>\n",
       "    </tr>\n",
       "  </tbody>\n",
       "</table>\n",
       "</div>"
      ],
      "text/plain": [
       "  acquisition_date  acquisitions\n",
       "0       1997-11-15           112\n",
       "1       1979-01-18           111\n",
       "2       1980-09-15           110\n",
       "3       1974-08-23           108\n",
       "4       1982-03-01           108\n",
       "5       1993-05-15           107"
      ]
     },
     "execution_count": 52,
     "metadata": {},
     "output_type": "execute_result"
    }
   ],
   "source": [
    "df = df_agg[\"acquisition_date\"].value_counts().rename_axis('acquisition_date').reset_index(name='acquisitions')\n",
    "df[0:6]\n"
   ]
  },
  {
   "cell_type": "markdown",
   "metadata": {},
   "source": [
    "Fix Data Types"
   ]
  },
  {
   "cell_type": "code",
   "execution_count": 55,
   "metadata": {},
   "outputs": [
    {
     "name": "stdout",
     "output_type": "stream",
     "text": [
      "Output:\n",
      "acquisition_date    datetime64[ns]\n",
      "acquisitions                 int64\n",
      "dtype: object\n"
     ]
    },
    {
     "data": {
      "text/html": [
       "<div>\n",
       "<style scoped>\n",
       "    .dataframe tbody tr th:only-of-type {\n",
       "        vertical-align: middle;\n",
       "    }\n",
       "\n",
       "    .dataframe tbody tr th {\n",
       "        vertical-align: top;\n",
       "    }\n",
       "\n",
       "    .dataframe thead th {\n",
       "        text-align: right;\n",
       "    }\n",
       "</style>\n",
       "<table border=\"1\" class=\"dataframe\">\n",
       "  <thead>\n",
       "    <tr style=\"text-align: right;\">\n",
       "      <th></th>\n",
       "      <th>acquisition_date</th>\n",
       "      <th>acquisitions</th>\n",
       "    </tr>\n",
       "  </thead>\n",
       "  <tbody>\n",
       "    <tr>\n",
       "      <th>0</th>\n",
       "      <td>1997-11-15</td>\n",
       "      <td>112</td>\n",
       "    </tr>\n",
       "    <tr>\n",
       "      <th>1</th>\n",
       "      <td>1979-01-18</td>\n",
       "      <td>111</td>\n",
       "    </tr>\n",
       "    <tr>\n",
       "      <th>2</th>\n",
       "      <td>1980-09-15</td>\n",
       "      <td>110</td>\n",
       "    </tr>\n",
       "    <tr>\n",
       "      <th>3</th>\n",
       "      <td>1974-08-23</td>\n",
       "      <td>108</td>\n",
       "    </tr>\n",
       "    <tr>\n",
       "      <th>4</th>\n",
       "      <td>1982-03-01</td>\n",
       "      <td>108</td>\n",
       "    </tr>\n",
       "  </tbody>\n",
       "</table>\n",
       "</div>"
      ],
      "text/plain": [
       "  acquisition_date  acquisitions\n",
       "0       1997-11-15           112\n",
       "1       1979-01-18           111\n",
       "2       1980-09-15           110\n",
       "3       1974-08-23           108\n",
       "4       1982-03-01           108"
      ]
     },
     "execution_count": 55,
     "metadata": {},
     "output_type": "execute_result"
    }
   ],
   "source": [
    "df['acquisition_date']= pd.to_datetime(df['acquisition_date'])\n",
    "# apply the dtype attribute\n",
    "result = df.dtypes\n",
    "\n",
    "print(\"Output:\")\n",
    "print(result)\n",
    "df.head()\n",
    "\n"
   ]
  },
  {
   "cell_type": "markdown",
   "metadata": {},
   "source": [
    "Create 'acquisition_facts.csv' file"
   ]
  },
  {
   "cell_type": "code",
   "execution_count": 40,
   "metadata": {},
   "outputs": [],
   "source": [
    "df.to_csv('acquisition_facts.csv' , index = False)"
   ]
  }
 ],
 "metadata": {
  "interpreter": {
   "hash": "2be5faf79681da6f2a61fdfdd5405d65d042280f7fba6178067603e3a2925119"
  },
  "kernelspec": {
   "display_name": "Python 3.10.3 64-bit",
   "language": "python",
   "name": "python3"
  },
  "language_info": {
   "codemirror_mode": {
    "name": "ipython",
    "version": 3
   },
   "file_extension": ".py",
   "mimetype": "text/x-python",
   "name": "python",
   "nbconvert_exporter": "python",
   "pygments_lexer": "ipython3",
   "version": "3.10.3"
  },
  "orig_nbformat": 4
 },
 "nbformat": 4,
 "nbformat_minor": 2
}
